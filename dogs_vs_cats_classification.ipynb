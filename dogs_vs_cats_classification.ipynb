!pip install numpy
import numpy as np
import tensorflow as tf
from tensorflow.keras.applications import MobileNetV2
from tensorflow.keras.preprocessing.image import load_img, img_to_array
from tensorflow.keras.applications.mobilenet_v2 import preprocess_input, decode_predictions

# Load the pre-trained MobileNetV2 model
model = MobileNetV2(weights='imagenet')

# Load an example image (replace with your own image path)
image_path = '/content/OIP.jpg'
image = load_img(image_path, target_size=(224, 224))
image_array = img_to_array(image)

# Import numpy module
import numpy as np

# Preprocess the image
image_array = preprocess_input(image_array[np.newaxis, ...])

# Make predictions
predictions = model.predict(image_array)
decoded_predictions = decode_predictions(predictions, top=5)[0]

# Print the top predicted classes
for _, label, confidence in decoded_predictions:
    print(f"{label}: {confidence:.2f}")
