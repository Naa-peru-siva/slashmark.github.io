# Install NLTK and download VADER lexicon
!pip install nltk
import nltk
nltk.download('vader_lexicon')

# Import necessary libraries
from nltk.sentiment.vader import SentimentIntensityAnalyzer

# Initialize VADER sentiment analyzer
sid = SentimentIntensityAnalyzer()

def analyze_sentiment(text):
    """
    Analyzes the sentiment of the given text.

    Args:
    text (str): The input text to analyze.

    Returns:
    sentiment (str): The sentiment label ('positive', 'negative', 'neutral').
    """
    # Analyze sentiment
    sentiment_scores = sid.polarity_scores(text)

    # Determine sentiment label
    if sentiment_scores['compound'] >= 0.05:
        return 'positive'
    elif sentiment_scores['compound'] <= -0.05:
        return 'negative'
    else:
        return 'neutral'

# Example usage
text = "The food at this restaurant is amazing!"
sentiment = analyze_sentiment(text)
print("Sentiment:", sentiment)
