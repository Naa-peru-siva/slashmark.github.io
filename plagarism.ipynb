!git clone https://github.com/amohammedhayath/Combat-Online-Plagiarism-with-AI.git
!pip3 install -r /content/Combat-Online-Plagiarism-with-AI/requirements.txt
%cd /content/Combat-Online-Plagiarism-with-AI
!python3 app.py
